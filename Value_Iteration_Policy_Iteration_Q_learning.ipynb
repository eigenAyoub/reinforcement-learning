{
 "cells": [
  {
   "cell_type": "code",
   "execution_count": 1,
   "metadata": {},
   "outputs": [],
   "source": [
    "import gym\n",
    "import numpy as np\n",
    "import matplotlib.pyplot as plt"
   ]
  },
  {
   "cell_type": "code",
   "execution_count": 2,
   "metadata": {},
   "outputs": [],
   "source": [
    "env = gym.make(\"FrozenLake-v0\")\n",
    "transition_dict = env.env.P\n",
    "\n",
    "gamma = 0.9"
   ]
  },
  {
   "cell_type": "code",
   "execution_count": 3,
   "metadata": {},
   "outputs": [],
   "source": [
    "actions = [\"Left\", \"Down\", \"Right\", \"Up\"]\n",
    "def print_policy(policy):\n",
    "    print(\"\\n Policy: \\n\")\n",
    "    reshaped_policy = policy.reshape(4,4)\n",
    "    for i in range(4):\n",
    "        x = \"| \"\n",
    "        for j in range(4):\n",
    "            x += actions[int(reshaped_policy[i][j])]\n",
    "            x += \" | \"\n",
    "        print(x)"
   ]
  },
  {
   "cell_type": "code",
   "execution_count": 52,
   "metadata": {
    "collapsed": true
   },
   "outputs": [
    {
     "name": "stdout",
     "output_type": "stream",
     "text": [
      "19 0.0\n",
      "5 0.0\n",
      "5 0.0\n",
      "3 0.0\n",
      "6 0.0\n",
      "2 0.0\n",
      "25 0.0\n",
      "19 0.0\n",
      "2 0.0\n",
      "8 0.0\n",
      "16 0.0\n",
      "7 0.0\n",
      "4 0.0\n",
      "2 0.0\n",
      "17 0.0\n",
      "17 0.0\n",
      "5 0.0\n",
      "5 0.0\n",
      "15 0.0\n",
      "9 0.0\n",
      "6 0.0\n",
      "7 0.0\n",
      "18 0.0\n",
      "11 0.0\n",
      "19 0.15009463529699918\n",
      "7 0.0\n",
      "9 0.0\n",
      "9 0.0\n",
      "11 0.0\n",
      "20 0.0\n",
      "4 0.0\n",
      "3 0.0\n",
      "2 0.0\n",
      "7 0.0\n",
      "7 0.0\n",
      "9 0.4304672100000001\n",
      "4 0.0\n",
      "10 0.0\n",
      "7 0.0\n",
      "9 0.0\n",
      "4 0.0\n",
      "4 0.0\n",
      "4 0.0\n",
      "8 0.0\n",
      "16 0.0\n",
      "2 0.0\n",
      "3 0.0\n",
      "7 0.0\n",
      "4 0.0\n",
      "20 0.0\n",
      "5 0.0\n",
      "15 0.0\n",
      "4 0.0\n",
      "5 0.0\n",
      "9 0.0\n",
      "4 0.0\n",
      "7 0.0\n",
      "9 0.0\n",
      "4 0.0\n",
      "5 0.0\n",
      "13 0.0\n",
      "7 0.0\n",
      "6 0.0\n",
      "7 0.0\n",
      "8 0.0\n",
      "26 0.0\n",
      "5 0.0\n",
      "14 0.0\n",
      "5 0.0\n",
      "10 0.0\n",
      "5 0.0\n",
      "4 0.0\n",
      "13 0.0\n",
      "9 0.0\n",
      "5 0.0\n",
      "5 0.0\n",
      "15 0.0\n",
      "19 0.0\n",
      "18 0.0\n",
      "8 0.0\n",
      "11 0.0\n",
      "6 0.0\n",
      "2 0.0\n",
      "5 0.0\n",
      "5 0.0\n",
      "7 0.0\n",
      "4 0.0\n",
      "5 0.0\n",
      "8 0.0\n",
      "19 0.0\n",
      "8 0.0\n",
      "6 0.0\n",
      "10 0.0\n",
      "5 0.0\n",
      "3 0.0\n",
      "5 0.0\n",
      "6 0.0\n",
      "6 0.0\n",
      "9 0.0\n",
      "14 0.0\n"
     ]
    }
   ],
   "source": [
    "for rollout in range(100):\n",
    "    reward = 0\n",
    "    eps_length = 0\n",
    "    \n",
    "    env.reset()\n",
    "    sample = env.action_space.sample()\n",
    "    obs, rew, done, _  = env.step(sample)\n",
    "    \n",
    "    reward += rew\n",
    "    eps_length += 1\n",
    "    \n",
    "    while done==False:\n",
    "        sample = env.action_space.sample()\n",
    "        obs, rew, done, _ = env.step(sample)\n",
    "        reward += gamma**eps_length * rew\n",
    "        eps_length += 1\n",
    "\n",
    "    print(eps_length, reward)  "
   ]
  },
  {
   "cell_type": "code",
   "execution_count": 6,
   "metadata": {},
   "outputs": [
    {
     "data": {
      "text/plain": [
       "[(0.3333333333333333, 13, 0.0, False),\n",
       " (0.3333333333333333, 14, 0.0, False),\n",
       " (0.3333333333333333, 15, 1.0, True)]"
      ]
     },
     "execution_count": 6,
     "metadata": {},
     "output_type": "execute_result"
    }
   ],
   "source": [
    "transition_dict[14][1]"
   ]
  },
  {
   "cell_type": "code",
   "execution_count": 7,
   "metadata": {
    "id": "7V5QcOxwVWNm"
   },
   "outputs": [
    {
     "name": "stdout",
     "output_type": "stream",
     "text": [
      "\n",
      " Policy: \n",
      "\n",
      "| Left | Left | Right | Up | \n",
      "| Up | Left | Down | Up | \n",
      "| Right | Left | Up | Right | \n",
      "| Right | Down | Up | Left | \n"
     ]
    }
   ],
   "source": [
    "policy = np.random.randint(4,size=16)\n",
    "print_policy(policy)        "
   ]
  },
  {
   "cell_type": "code",
   "execution_count": 37,
   "metadata": {},
   "outputs": [
    {
     "data": {
      "text/plain": [
       "array([[0, 0, 0, 0],\n",
       "       [0, 0, 0, 0],\n",
       "       [0, 0, 0, 0],\n",
       "       [0, 0, 1, 0]])"
      ]
     },
     "execution_count": 37,
     "metadata": {},
     "output_type": "execute_result"
    }
   ],
   "source": [
    "def r(x,a):\n",
    "    x_a = np.array(transition_dict[x][a])\n",
    "    r_x_a = np.dot(x_a[:,0], x_a[:,2])\n",
    "    return r_x_a\n",
    "def Q(x,a, V):\n",
    "    x_a = np.array(transition_dict[x][a])\n",
    "    return sum([ x_a[i,0]*(x_a[i,2]+gamma*V[int(x_a[i,1])]) for i in range(x_a.shape[0])])\n",
    "\n",
    "def greedy_policy(V):\n",
    "    policy = [0]*16\n",
    "    for state in range(16):\n",
    "        policy[state] = np.argmax(np.array([Q(state,i,V)for i in range(4)]))\n",
    "    return np.array(policy).reshape(4,4)\n",
    "    \n",
    "greedy_policy([1]*16)"
   ]
  },
  {
   "cell_type": "code",
   "execution_count": 116,
   "metadata": {},
   "outputs": [
    {
     "name": "stdout",
     "output_type": "stream",
     "text": [
      "[[0.0688909  0.06141457 0.07440976 0.05580732]\n",
      " [0.09185454 0.         0.11220821 0.        ]\n",
      " [0.14543635 0.24749695 0.29961759 0.        ]\n",
      " [0.         0.3799359  0.63902015 0.        ]]\n",
      "\n",
      " Policy: \n",
      "\n",
      "| Left | Up | Left | Up | \n",
      "| Left | Left | Left | Left | \n",
      "| Up | Down | Left | Left | \n",
      "| Left | Right | Down | Left | \n"
     ]
    }
   ],
   "source": [
    "def bellman_optimal_update(x, V):\n",
    "    potential_max = []\n",
    "    for a in range(4):\n",
    "        transition = np.array(transition_dict[x][a])\n",
    "        rxa = 0 \n",
    "        for i in range(transition.shape[0]):\n",
    "            rxa += transition[i,0]*(transition[i,2] + gamma*V[int(transition[i,1])])\n",
    "        potential_max += [rxa]\n",
    "    return np.max(np.array(potential_max))\n",
    "\n",
    "v = [0]*16\n",
    "for iter in range(200):\n",
    "    v = [bellman_optimal_update(i, v) for i in range(16)]\n",
    "    #if (iter%10==0):\n",
    "    #    print(f\"iteration: {iter}\\n Values:\")\n",
    "print(np.array(v).reshape(4,4))\n",
    "print_policy(greedy_policy(v))"
   ]
  },
  {
   "cell_type": "code",
   "execution_count": 126,
   "metadata": {
    "scrolled": false
   },
   "outputs": [
    {
     "name": "stdout",
     "output_type": "stream",
     "text": [
      "[[0.0688909  0.06141457 0.07440976 0.05580732]\n",
      " [0.09185454 0.         0.11220821 0.        ]\n",
      " [0.14543635 0.24749695 0.29961759 0.        ]\n",
      " [0.         0.3799359  0.63902015 0.        ]]\n",
      "\n",
      " Policy: \n",
      "\n",
      "| Left | Up | Left | Up | \n",
      "| Left | Left | Left | Left | \n",
      "| Up | Down | Left | Left | \n",
      "| Left | Right | Down | Left | \n",
      "\n",
      " Policy: \n",
      "\n",
      "| Left | Up | Left | Up | \n",
      "| Left | Left | Left | Left | \n",
      "| Up | Down | Left | Left | \n",
      "| Left | Right | Down | Left | \n",
      "[[0.06889058 0.0614143  0.07440956 0.0558071 ]\n",
      " [0.09185425 0.         0.1122081  0.        ]\n",
      " [0.14543612 0.2474968  0.29961748 0.        ]\n",
      " [0.         0.37993579 0.63902009 0.        ]]\n"
     ]
    }
   ],
   "source": [
    "################\n",
    "#####  VI  #####\n",
    "################\n",
    "\n",
    "def bellman_optimal_update(x, V):\n",
    "    potential_max = []\n",
    "    for a in range(4):\n",
    "        transition = np.array(transition_dict[x][a])\n",
    "        rxa = 0 \n",
    "        for i in range(transition.shape[0]):\n",
    "            rxa += transition[i,0]*(transition[i,2] + gamma*V[int(transition[i,1])])\n",
    "        potential_max += [rxa]\n",
    "    return np.max(np.array(potential_max))\n",
    "\n",
    "v = [0]*16\n",
    "for iter in range(200):\n",
    "    v = [bellman_optimal_update(i, v) for i in range(16)]\n",
    "    #if (iter%10==0):\n",
    "    #    print(f\"iteration: {iter}\\n Values:\")\n",
    "print(np.array(v).reshape(4,4))\n",
    "print_policy(greedy_policy(v))\n",
    "\n",
    "policy = np.random.randint(4,size=16)\n",
    "\n",
    "\n",
    "####################################\n",
    "#####   Policy Eval. + Improv. #####\n",
    "####################################\n",
    "\n",
    "def bellman_update(policy, v):\n",
    "    v_up = [0]*16\n",
    "    for x in range(16):\n",
    "        transition = np.array(transition_dict[x][policy[x]])\n",
    "        for dest in range(transition.shape[0]):\n",
    "            v_up[x] += transition[dest,0]*(transition[dest,2]+gamma*v[int(transition[dest,1])])\n",
    "    return v_up\n",
    "    \n",
    "def policy_eval(policy):\n",
    "    v = [0]*16\n",
    "    for i in range(100):  \n",
    "        v_up = bellman_update(policy, v)\n",
    "        v = v_up[:]\n",
    "        #if (i%10==0):\n",
    "        #    print(np.array(v).reshape(4,4))\n",
    "    return v\n",
    "        \n",
    "        \n",
    "for i in range(150):\n",
    "    v = policy_eval(policy)\n",
    "    policy = greedy_policy(v).flatten()\n",
    "\n",
    "\n",
    "print_policy(policy)\n",
    "print(np.array(policy_eval(policy)).reshape(4,4))"
   ]
  },
  {
   "cell_type": "code",
   "execution_count": 12,
   "metadata": {},
   "outputs": [],
   "source": [
    " "
   ]
  },
  {
   "cell_type": "code",
   "execution_count": 21,
   "metadata": {},
   "outputs": [
    {
     "name": "stdout",
     "output_type": "stream",
     "text": [
      "\n",
      " Policy: \n",
      "\n",
      "| Right | Up | Left | Up | \n",
      "| Left | Left | Right | Left | \n",
      "| Up | Down | Down | Left | \n",
      "| Left | Right | Down | Left | \n"
     ]
    }
   ],
   "source": [
    "##############\n",
    "# Q-Learning #\n",
    "##############\n",
    "\n",
    "q = np.zeros((16,4))\n",
    "\n",
    "alpha = 0.1\n",
    "eps = 0.1\n",
    "\n",
    "def eps_greedy(x):\n",
    "    if np.random.rand()<eps :\n",
    "        return np.random.randint(0,4)\n",
    "    else :\n",
    "        return np.argmax(np.array([q[x,a] for a in range(4)])) \n",
    "\n",
    "for eps in range(150_000):\n",
    "    #if eps%1000 == 0 :\n",
    "    #    print(q.sum())\n",
    "    env.reset()\n",
    "    a = eps_greedy(0)\n",
    "    obs, rew, done, _  = env.step(a)\n",
    "    \n",
    "    next_ = np.array([q[obs,act] for act in range(4)])\n",
    "    q[0,a] = (1-alpha)*q[0,a] + alpha*(rew + gamma*np.max(next_))\n",
    "\n",
    "    while done==False:\n",
    "        a = eps_greedy(obs)\n",
    "        x=obs\n",
    "        obs, rew, done, _ = env.step(a)\n",
    "        \n",
    "        next_ = np.array([q[obs,act] for act in range(4)])\n",
    "        q[x,a] = (1-alpha)*q[x,a]+ alpha*(rew + gamma*np.max(next_))\n",
    "\n",
    "print_policy(np.array([np.argmax(q[i,:]) for i in range(16)]))"
   ]
  },
  {
   "cell_type": "code",
   "execution_count": null,
   "metadata": {},
   "outputs": [],
   "source": [
    "| Left | Up | Left | Up | \n",
    "| Left | Left | Left | Left | \n",
    "| Up | Down | Left | Left | \n",
    "| Left | Right | Down | Left | \n",
    "\n",
    "[[0.06889058 0.0614143  0.07440956 0.0558071 ]\n",
    " [0.09185425 0.         0.1122081  0.        ]\n",
    " [0.14543612 0.2474968  0.29961748 0.        ]\n",
    " [0.         0.37993579 0.63902009 0.        ]]\n"
   ]
  },
  {
   "cell_type": "code",
   "execution_count": 22,
   "metadata": {},
   "outputs": [
    {
     "data": {
      "text/plain": [
       "array([[0.07957435, 0.07960424, 0.08632485, 0.07621792],\n",
       "       [0.05718622, 0.0699177 , 0.05922119, 0.08294745],\n",
       "       [0.1204758 , 0.11195029, 0.11471109, 0.08593142],\n",
       "       [0.06392437, 0.07150579, 0.0426646 , 0.08159553],\n",
       "       [0.10162824, 0.08033726, 0.06548086, 0.05994997],\n",
       "       [0.        , 0.        , 0.        , 0.        ],\n",
       "       [0.12688099, 0.10859301, 0.16930004, 0.03618364],\n",
       "       [0.        , 0.        , 0.        , 0.        ],\n",
       "       [0.07088854, 0.13290854, 0.09755882, 0.15331259],\n",
       "       [0.10647255, 0.27176926, 0.19690257, 0.17090155],\n",
       "       [0.32109867, 0.32718107, 0.153821  , 0.15278394],\n",
       "       [0.        , 0.        , 0.        , 0.        ],\n",
       "       [0.        , 0.        , 0.        , 0.        ],\n",
       "       [0.18050765, 0.22613266, 0.39602344, 0.30806716],\n",
       "       [0.38953199, 0.6248759 , 0.60233338, 0.40687949],\n",
       "       [0.        , 0.        , 0.        , 0.        ]])"
      ]
     },
     "execution_count": 22,
     "metadata": {},
     "output_type": "execute_result"
    }
   ],
   "source": [
    "q"
   ]
  },
  {
   "cell_type": "code",
   "execution_count": 95,
   "metadata": {},
   "outputs": [
    {
     "data": {
      "text/plain": [
       "Text(0, 0.5, 'Values')"
      ]
     },
     "execution_count": 95,
     "metadata": {},
     "output_type": "execute_result"
    },
    {
     "data": {
      "image/png": "[encoded data removed]",
      "text/plain": [
       "<Figure size 432x288 with 1 Axes>"
      ]
     },
     "metadata": {
      "needs_background": "light"
     },
     "output_type": "display_data"
    }
   ],
   "source": [
    "## V(s_0) with each step\n",
    "\n",
    "fig, ax = plt.subplots()\n",
    "plt.plot(range(len(v0)), v0)\n",
    "ax.set_title(\"Values of the initial state\")\n",
    "ax.set_xlabel(\"Iterations\")\n",
    "ax.set_ylabel(\"Values\")"
   ]
  },
  {
   "cell_type": "markdown",
   "metadata": {},
   "source": [
    "### Policy iteration\n",
    "1. Policy evaluation (VI for planning)\n",
    "2. Policy improvement (greedy policy )"
   ]
  },
  {
   "cell_type": "code",
   "execution_count": 104,
   "metadata": {},
   "outputs": [],
   "source": [
    "# Estimate values, aka, VI for PE  (Value iteration for policy improvements)\n",
    "def policy_evaluation(policy, init_values, gamma, termination=1e-4):\n",
    "    old_values = np.copy(values)\n",
    "    max_update = 0\n",
    "    # values_0 = []\n",
    "    for _ in range(100):\n",
    "        max_update = 0\n",
    "        for i in range(16):\n",
    "            values[i] = Q_x_a(old_values, i, policy[i])         \n",
    "        #max_update = max(np.abs(values-old_values))\n",
    "        # values_0 += [values[0]]\n",
    "    return values\n",
    "\n",
    "# update actions, Greedy strategy\n",
    "def policy_improvement(values, gamma):\n",
    "    # ********** TODO ***********\n",
    "    policy = np.empty(16)\n",
    "    for s in range(16):\n",
    "            policy[s] = np.argmax([Q_x_a(values, s, a) for a in range(4)])\n",
    "    return policy"
   ]
  },
  {
   "cell_type": "code",
   "execution_count": 106,
   "metadata": {},
   "outputs": [
    {
     "name": "stdout",
     "output_type": "stream",
     "text": [
      "[6.89106705e-02 6.14321055e-02 7.44251017e-02 5.58226313e-02\n",
      " 9.18743495e-02 3.45083926e-06 1.12221379e-01 5.49469328e-06\n",
      " 1.45456249e-01 2.47516965e-01 2.99636291e-01 4.00359769e-06\n",
      " 1.97956935e-05 3.79957362e-01 6.39043075e-01 2.44013642e-05] \n",
      "\n",
      "\n",
      " Left | Up | Left | Up\n",
      " Left | Left | Right | Left\n",
      " Up | Down | Left | Left\n",
      " Left | Right | Down | Left\n"
     ]
    }
   ],
   "source": [
    "values = np.random.rand(16)\n",
    "policy = np.random.randint(4, size = (16,))\n",
    "\n",
    "for i in range(100):\n",
    "    values = policy_evaluation(policy, values, gamma, termination=1e-4)\n",
    "    policy = policy_improvement(values, gamma)\n",
    "\n",
    "print(values, \"\\n\\n\")\n",
    "print_policy(policy)"
   ]
  },
  {
   "cell_type": "code",
   "execution_count": 102,
   "metadata": {},
   "outputs": [
    {
     "name": "stdout",
     "output_type": "stream",
     "text": [
      "[6.93851835e-02 6.18919889e-02 7.48687511e-02 5.62675674e-02\n",
      " 9.23469693e-02 2.51287907e-04 1.12647625e-01 3.85888202e-04\n",
      " 1.45925254e-01 2.47980962e-01 3.00090355e-01 2.37517568e-04\n",
      " 8.30115636e-04 3.80425344e-01 6.39514364e-01 4.98642842e-04] \n",
      "\n",
      "\n",
      " Left | Up | Left | Up\n",
      " Left | Left | Right | Left\n",
      " Up | Down | Left | Left\n",
      " Left | Right | Down | Left\n"
     ]
    }
   ],
   "source": [
    "print(values_, \"\\n\\n\")\n",
    "print_policy(policy_)"
   ]
  },
  {
   "cell_type": "markdown",
   "metadata": {},
   "source": [
    "### Q-learning"
   ]
  },
  {
   "cell_type": "code",
   "execution_count": null,
   "metadata": {},
   "outputs": [],
   "source": []
  }
 ],
 "metadata": {
  "colab": {
   "collapsed_sections": [],
   "name": "assignment1_starter_code.ipynb",
   "provenance": []
  },
  "kernelspec": {
   "display_name": "Python 3",
   "language": "python",
   "name": "python3"
  },
  "language_info": {
   "codemirror_mode": {
    "name": "ipython",
    "version": 3
   },
   "file_extension": ".py",
   "mimetype": "text/x-python",
   "name": "python",
   "nbconvert_exporter": "python",
   "pygments_lexer": "ipython3",
   "version": "3.7.3"
  }
 },
 "nbformat": 4,
 "nbformat_minor": 1
}
